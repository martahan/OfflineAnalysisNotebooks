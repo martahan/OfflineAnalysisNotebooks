{
 "cells": [
  {
   "cell_type": "markdown",
   "metadata": {},
   "source": [
    "# Hash checking effectiveness analysis"
   ]
  },
  {
   "cell_type": "markdown",
   "metadata": {},
   "source": [
    "In this script we will show an example of using the VyPR Analysis Library to visualise the effectiveness of hash checking in optimising Conditions upload process. The service is checked for the requirement that the number of hashes not found should exceed 70% of the original list of hashes. The intuition here is that the optimisation should have a sufficient effect on the upload process that its removal would cause significantly different behaviour."
   ]
  },
  {
   "cell_type": "markdown",
   "metadata": {},
   "source": [
    "Begin with importing the necessary modules and setting up the verdict server."
   ]
  },
  {
   "cell_type": "code",
   "execution_count": 1,
   "metadata": {},
   "outputs": [
    {
     "name": "stdout",
     "output_type": "stream",
     "text": [
      "Failed to connect to server.\n",
      "Connected to server\n"
     ]
    },
    {
     "data": {
      "text/plain": [
       "'uploader-experiments/uploader/'"
      ]
     },
     "execution_count": 1,
     "metadata": {},
     "output_type": "execute_result"
    }
   ],
   "source": [
    "import sys\n",
    "sys.path.append(\"..\")\n",
    "import ast\n",
    "import pprint\n",
    "%matplotlib inline\n",
    "import matplotlib\n",
    "import matplotlib.pyplot as plt\n",
    "from matplotlib.pyplot import figure\n",
    "import matplotlib.cbook as cbook\n",
    "from dateutil.parser import isoparse\n",
    "import traceback\n",
    "import json\n",
    "import argparse\n",
    "\n",
    "import VyPRAnalysis as va\n",
    "va.prepare(\"verdicts_4000_hash_check_effectiveness.db\")\n",
    "va.set_monitored_service_path(\"uploader-experiments/uploader/\")"
   ]
  },
  {
   "cell_type": "markdown",
   "metadata": {},
   "source": [
    "Iterate through the calls of the hash checking function to gather the observed number of the checked hashes during each call, as well as the number of those that were not found. "
   ]
  },
  {
   "cell_type": "code",
   "execution_count": 2,
   "metadata": {},
   "outputs": [
    {
     "name": "stdout",
     "output_type": "stream",
     "text": [
      "Processed 0/4000 calls.\n",
      "Processed 100/4000 calls.\n",
      "Processed 200/4000 calls.\n",
      "Processed 300/4000 calls.\n",
      "Processed 400/4000 calls.\n",
      "Processed 500/4000 calls.\n",
      "Processed 600/4000 calls.\n",
      "Processed 700/4000 calls.\n",
      "Processed 800/4000 calls.\n",
      "Processed 900/4000 calls.\n",
      "Processed 1000/4000 calls.\n",
      "Processed 1100/4000 calls.\n",
      "Processed 1200/4000 calls.\n",
      "Processed 1300/4000 calls.\n",
      "Processed 1400/4000 calls.\n",
      "Processed 1500/4000 calls.\n",
      "Processed 1600/4000 calls.\n",
      "Processed 1700/4000 calls.\n",
      "Processed 1800/4000 calls.\n",
      "Processed 1900/4000 calls.\n",
      "Processed 2000/4000 calls.\n",
      "Processed 2100/4000 calls.\n",
      "Processed 2200/4000 calls.\n",
      "Processed 2300/4000 calls.\n",
      "Processed 2400/4000 calls.\n",
      "Processed 2500/4000 calls.\n",
      "Processed 2600/4000 calls.\n",
      "Processed 2700/4000 calls.\n",
      "Processed 2800/4000 calls.\n",
      "Processed 2900/4000 calls.\n",
      "Processed 3000/4000 calls.\n",
      "Processed 3100/4000 calls.\n",
      "Processed 3200/4000 calls.\n",
      "Processed 3300/4000 calls.\n",
      "Processed 3400/4000 calls.\n",
      "Processed 3500/4000 calls.\n",
      "Processed 3600/4000 calls.\n",
      "Processed 3700/4000 calls.\n",
      "Processed 3800/4000 calls.\n",
      "Processed 3900/4000 calls.\n"
     ]
    }
   ],
   "source": [
    "hash_checking_function = va.list_functions()[0]\n",
    "all_calls = hash_checking_function.get_calls()\n",
    "n_of_calls = len(all_calls)\n",
    "\n",
    "hashes_length_to_not_found_list = {}\n",
    "\n",
    "hash_lengths = []\n",
    "\n",
    "for (n, call) in enumerate(all_calls):\n",
    "  if n % 100 == 0:\n",
    "    print(\"Processed %i/%i calls.\" % (n, n_of_calls))\n",
    "  # there will be a single verdict\n",
    "  verdict = call.get_verdicts()[0]\n",
    "  # in case we only care about failing verdicts replace the conditional with:\n",
    "  #if verdict.verdict == 0:\n",
    "  if True:\n",
    "    observations = verdict.get_observations()\n",
    "    lhs_obs = filter(lambda obs : obs.sub_index == 0, observations)[0]\n",
    "    rhs_obs = filter(lambda obs : obs.sub_index == 1, observations)[0]\n",
    "    total_hashes = ast.literal_eval(lhs_obs.observed_value)[\"hashes\"]\n",
    "\n",
    "    if total_hashes in hash_lengths:\n",
    "      length_index = hash_lengths.index(total_hashes)\n",
    "    else:\n",
    "      hash_lengths.append(total_hashes)\n",
    "      length_index = len(hash_lengths)-1\n",
    "\n",
    "    not_found = ast.literal_eval(rhs_obs.observed_value)[\"not_found\"]\n",
    "    if length_index not in hashes_length_to_not_found_list:\n",
    "      hashes_length_to_not_found_list[length_index] = [not_found]\n",
    "    else:\n",
    "      hashes_length_to_not_found_list[length_index].append(not_found)"
   ]
  },
  {
   "cell_type": "markdown",
   "metadata": {},
   "source": [
    "Convert the gathered lengths of the not found and all checked hashes into percentage values."
   ]
  },
  {
   "cell_type": "code",
   "execution_count": 3,
   "metadata": {},
   "outputs": [],
   "source": [
    "hashes_length_to_percentages = {}\n",
    "for hash_length_index in hashes_length_to_not_found_list:\n",
    "  n_of_hashes_given = hash_lengths[hash_length_index]\n",
    "  percentages = []\n",
    "\n",
    "  for not_found in hashes_length_to_not_found_list[hash_length_index]:\n",
    "    percentages.append(100*(float(not_found)/float(n_of_hashes_given)))\n",
    "\n",
    "  hashes_length_to_percentages[hash_length_index] = percentages"
   ]
  },
  {
   "cell_type": "markdown",
   "metadata": {},
   "source": [
    "Manually construct the bins for hash lengths and group the percentages into corresponding bins."
   ]
  },
  {
   "cell_type": "code",
   "execution_count": 4,
   "metadata": {},
   "outputs": [],
   "source": [
    "bins = [[0, 10], [10, 20], [20, 30], [30, 40], [40, 50], [50, 60], [60, 80], [80, 100], [100, 200], [200, 300], [300, 2000]]\n",
    "groups = [[] for bin in bins]\n",
    "\n",
    "bin_as_label = lambda bin : \"[%i, %i)\" % tuple(bin)\n",
    "bin_strings = map(bin_as_label, bins)\n",
    "\n",
    "# put hash lengths into bins\n",
    "for (length_index, hash_length) in enumerate(hash_lengths):\n",
    "  for (n, bin) in enumerate(bins):\n",
    "    if bin[0] <= hash_length < bin[1]:\n",
    "      groups[n] += hashes_length_to_percentages[length_index]"
   ]
  },
  {
   "cell_type": "markdown",
   "metadata": {},
   "source": [
    "Finally, create the plot showing the boxplots showing the distribution of the percentage of the hashes not found, grouped by the total number of hashes checked. We see that Conditions uploads which propose a high number of Payloads often upload Conditions that do not already exist. From this we take two key results: \n",
    "\n",
    "- We must consider making hash checking an optional part of the Conditions upload process if it takes a long time in cases where it has little benefit \n",
    "    \n",
    "- Instances where hash checking takes a long time are often those where the Payloads do not exist, so the problem in these instances cannot be that the checking query is fetching too much data."
   ]
  },
  {
   "cell_type": "code",
   "execution_count": 8,
   "metadata": {},
   "outputs": [
    {
     "data": {
      "image/png": "[encoded data removed]",
      "text/plain": [
       "<Figure size 720x288 with 1 Axes>"
      ]
     },
     "metadata": {
      "needs_background": "light"
     },
     "output_type": "display_data"
    }
   ],
   "source": [
    "# derive boxplot statistics\n",
    "stats = cbook.boxplot_stats(groups, labels=bin_strings)\n",
    "\n",
    "# draw plot\n",
    "fig, ax = plt.subplots()\n",
    "\n",
    "fig.set_figheight(4)\n",
    "fig.set_figwidth(10)\n",
    "\n",
    "plt.xticks(rotation=45)\n",
    "\n",
    "plt.ylim([0, 100])\n",
    "\n",
    "plt.xlabel(\"Number of hashes checked\")\n",
    "plt.ylabel(\"Percentage of hashes not found\")\n",
    "\n",
    "ax.bxp(stats, showfliers=False)\n",
    "\n",
    "plt.tight_layout()\n",
    "plt.show()"
   ]
  },
  {
   "cell_type": "code",
   "execution_count": 6,
   "metadata": {},
   "outputs": [],
   "source": [
    "va.teardown()"
   ]
  },
  {
   "cell_type": "code",
   "execution_count": null,
   "metadata": {},
   "outputs": [],
   "source": []
  }
 ],
 "metadata": {
  "kernelspec": {
   "display_name": "Python 2",
   "language": "python",
   "name": "python2"
  },
  "language_info": {
   "codemirror_mode": {
    "name": "ipython",
    "version": 2
   },
   "file_extension": ".py",
   "mimetype": "text/x-python",
   "name": "python",
   "nbconvert_exporter": "python",
   "pygments_lexer": "ipython2",
   "version": "2.7.5"
  }
 },
 "nbformat": 4,
 "nbformat_minor": 2
}
